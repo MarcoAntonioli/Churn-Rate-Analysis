{
 "cells": [
  {
   "cell_type": "code",
   "execution_count": 166,
   "metadata": {},
   "outputs": [],
   "source": [
    "import matplotlib.pyplot as plt\n",
    "import pandas as pd\n",
    "import numpy as np\n",
    "%matplotlib inline"
   ]
  },
  {
   "cell_type": "code",
   "execution_count": 167,
   "metadata": {},
   "outputs": [],
   "source": [
    "data = pd.read_csv(\"BSDS_November.csv\")"
   ]
  },
  {
   "cell_type": "code",
   "execution_count": 168,
   "metadata": {},
   "outputs": [
    {
     "data": {
      "text/html": [
       "<div>\n",
       "<style scoped>\n",
       "    .dataframe tbody tr th:only-of-type {\n",
       "        vertical-align: middle;\n",
       "    }\n",
       "\n",
       "    .dataframe tbody tr th {\n",
       "        vertical-align: top;\n",
       "    }\n",
       "\n",
       "    .dataframe thead th {\n",
       "        text-align: right;\n",
       "    }\n",
       "</style>\n",
       "<table border=\"1\" class=\"dataframe\">\n",
       "  <thead>\n",
       "    <tr style=\"text-align: right;\">\n",
       "      <th></th>\n",
       "      <th>gender</th>\n",
       "      <th>Partner</th>\n",
       "      <th>PhoneService</th>\n",
       "      <th>InternetService</th>\n",
       "      <th>OnlineSecurity</th>\n",
       "      <th>Contract</th>\n",
       "      <th>PaymentMethod</th>\n",
       "      <th>MonthlyCharges</th>\n",
       "      <th>TotalCharges</th>\n",
       "      <th>Churn</th>\n",
       "    </tr>\n",
       "  </thead>\n",
       "  <tbody>\n",
       "    <tr>\n",
       "      <th>0</th>\n",
       "      <td>Female</td>\n",
       "      <td>No</td>\n",
       "      <td>No</td>\n",
       "      <td>DSL</td>\n",
       "      <td>Yes</td>\n",
       "      <td>Two year</td>\n",
       "      <td>Mailed check</td>\n",
       "      <td>39.70</td>\n",
       "      <td>692.35</td>\n",
       "      <td>No</td>\n",
       "    </tr>\n",
       "    <tr>\n",
       "      <th>1</th>\n",
       "      <td>Male</td>\n",
       "      <td>No</td>\n",
       "      <td>Yes</td>\n",
       "      <td>DSL</td>\n",
       "      <td>No</td>\n",
       "      <td>Month-to-month</td>\n",
       "      <td>Bank transfer (automatic)</td>\n",
       "      <td>46.05</td>\n",
       "      <td>80.35</td>\n",
       "      <td>Yes</td>\n",
       "    </tr>\n",
       "    <tr>\n",
       "      <th>2</th>\n",
       "      <td>Male</td>\n",
       "      <td>Yes</td>\n",
       "      <td>Yes</td>\n",
       "      <td>Fiber optic</td>\n",
       "      <td>Yes</td>\n",
       "      <td>Month-to-month</td>\n",
       "      <td>Electronic check</td>\n",
       "      <td>91.80</td>\n",
       "      <td>5960.5</td>\n",
       "      <td>No</td>\n",
       "    </tr>\n",
       "    <tr>\n",
       "      <th>3</th>\n",
       "      <td>Male</td>\n",
       "      <td>Yes</td>\n",
       "      <td>Yes</td>\n",
       "      <td>No</td>\n",
       "      <td>No internet service</td>\n",
       "      <td>One year</td>\n",
       "      <td>Credit card (automatic)</td>\n",
       "      <td>19.80</td>\n",
       "      <td>576.65</td>\n",
       "      <td>No</td>\n",
       "    </tr>\n",
       "    <tr>\n",
       "      <th>4</th>\n",
       "      <td>Male</td>\n",
       "      <td>Yes</td>\n",
       "      <td>Yes</td>\n",
       "      <td>Fiber optic</td>\n",
       "      <td>Yes</td>\n",
       "      <td>One year</td>\n",
       "      <td>Bank transfer (automatic)</td>\n",
       "      <td>89.45</td>\n",
       "      <td>5692.65</td>\n",
       "      <td>No</td>\n",
       "    </tr>\n",
       "  </tbody>\n",
       "</table>\n",
       "</div>"
      ],
      "text/plain": [
       "   gender Partner PhoneService InternetService       OnlineSecurity  \\\n",
       "0  Female      No           No             DSL                  Yes   \n",
       "1    Male      No          Yes             DSL                   No   \n",
       "2    Male     Yes          Yes     Fiber optic                  Yes   \n",
       "3    Male     Yes          Yes              No  No internet service   \n",
       "4    Male     Yes          Yes     Fiber optic                  Yes   \n",
       "\n",
       "         Contract              PaymentMethod  MonthlyCharges TotalCharges  \\\n",
       "0        Two year               Mailed check           39.70       692.35   \n",
       "1  Month-to-month  Bank transfer (automatic)           46.05        80.35   \n",
       "2  Month-to-month           Electronic check           91.80       5960.5   \n",
       "3        One year    Credit card (automatic)           19.80       576.65   \n",
       "4        One year  Bank transfer (automatic)           89.45      5692.65   \n",
       "\n",
       "  Churn  \n",
       "0    No  \n",
       "1   Yes  \n",
       "2    No  \n",
       "3    No  \n",
       "4    No  "
      ]
     },
     "execution_count": 168,
     "metadata": {},
     "output_type": "execute_result"
    }
   ],
   "source": [
    "data.head()"
   ]
  },
  {
   "cell_type": "markdown",
   "metadata": {},
   "source": [
    "# Preprocessing"
   ]
  },
  {
   "cell_type": "markdown",
   "metadata": {},
   "source": [
    "We noticed that some of the columns are incomplete, they do not have the Total Charges values. "
   ]
  },
  {
   "cell_type": "code",
   "execution_count": 169,
   "metadata": {},
   "outputs": [
    {
     "data": {
      "text/html": [
       "<div>\n",
       "<style scoped>\n",
       "    .dataframe tbody tr th:only-of-type {\n",
       "        vertical-align: middle;\n",
       "    }\n",
       "\n",
       "    .dataframe tbody tr th {\n",
       "        vertical-align: top;\n",
       "    }\n",
       "\n",
       "    .dataframe thead th {\n",
       "        text-align: right;\n",
       "    }\n",
       "</style>\n",
       "<table border=\"1\" class=\"dataframe\">\n",
       "  <thead>\n",
       "    <tr style=\"text-align: right;\">\n",
       "      <th></th>\n",
       "      <th>gender</th>\n",
       "      <th>Partner</th>\n",
       "      <th>PhoneService</th>\n",
       "      <th>InternetService</th>\n",
       "      <th>OnlineSecurity</th>\n",
       "      <th>Contract</th>\n",
       "      <th>PaymentMethod</th>\n",
       "      <th>MonthlyCharges</th>\n",
       "      <th>TotalCharges</th>\n",
       "      <th>Churn</th>\n",
       "    </tr>\n",
       "  </thead>\n",
       "  <tbody>\n",
       "    <tr>\n",
       "      <th>71</th>\n",
       "      <td>Female</td>\n",
       "      <td>Yes</td>\n",
       "      <td>No</td>\n",
       "      <td>DSL</td>\n",
       "      <td>Yes</td>\n",
       "      <td>Two year</td>\n",
       "      <td>Credit card (automatic)</td>\n",
       "      <td>56.05</td>\n",
       "      <td></td>\n",
       "      <td>No</td>\n",
       "    </tr>\n",
       "    <tr>\n",
       "      <th>2208</th>\n",
       "      <td>Male</td>\n",
       "      <td>Yes</td>\n",
       "      <td>Yes</td>\n",
       "      <td>No</td>\n",
       "      <td>No internet service</td>\n",
       "      <td>Two year</td>\n",
       "      <td>Mailed check</td>\n",
       "      <td>25.35</td>\n",
       "      <td></td>\n",
       "      <td>No</td>\n",
       "    </tr>\n",
       "    <tr>\n",
       "      <th>2523</th>\n",
       "      <td>Male</td>\n",
       "      <td>Yes</td>\n",
       "      <td>Yes</td>\n",
       "      <td>No</td>\n",
       "      <td>No internet service</td>\n",
       "      <td>One year</td>\n",
       "      <td>Mailed check</td>\n",
       "      <td>19.70</td>\n",
       "      <td></td>\n",
       "      <td>No</td>\n",
       "    </tr>\n",
       "    <tr>\n",
       "      <th>2692</th>\n",
       "      <td>Male</td>\n",
       "      <td>Yes</td>\n",
       "      <td>Yes</td>\n",
       "      <td>No</td>\n",
       "      <td>No internet service</td>\n",
       "      <td>Two year</td>\n",
       "      <td>Mailed check</td>\n",
       "      <td>19.85</td>\n",
       "      <td></td>\n",
       "      <td>No</td>\n",
       "    </tr>\n",
       "    <tr>\n",
       "      <th>3763</th>\n",
       "      <td>Female</td>\n",
       "      <td>Yes</td>\n",
       "      <td>Yes</td>\n",
       "      <td>DSL</td>\n",
       "      <td>Yes</td>\n",
       "      <td>Two year</td>\n",
       "      <td>Mailed check</td>\n",
       "      <td>80.85</td>\n",
       "      <td></td>\n",
       "      <td>No</td>\n",
       "    </tr>\n",
       "    <tr>\n",
       "      <th>4812</th>\n",
       "      <td>Male</td>\n",
       "      <td>No</td>\n",
       "      <td>Yes</td>\n",
       "      <td>No</td>\n",
       "      <td>No internet service</td>\n",
       "      <td>Two year</td>\n",
       "      <td>Mailed check</td>\n",
       "      <td>20.25</td>\n",
       "      <td></td>\n",
       "      <td>No</td>\n",
       "    </tr>\n",
       "    <tr>\n",
       "      <th>4819</th>\n",
       "      <td>Female</td>\n",
       "      <td>Yes</td>\n",
       "      <td>Yes</td>\n",
       "      <td>No</td>\n",
       "      <td>No internet service</td>\n",
       "      <td>Two year</td>\n",
       "      <td>Mailed check</td>\n",
       "      <td>20.00</td>\n",
       "      <td></td>\n",
       "      <td>No</td>\n",
       "    </tr>\n",
       "    <tr>\n",
       "      <th>5132</th>\n",
       "      <td>Female</td>\n",
       "      <td>Yes</td>\n",
       "      <td>No</td>\n",
       "      <td>DSL</td>\n",
       "      <td>Yes</td>\n",
       "      <td>Two year</td>\n",
       "      <td>Bank transfer (automatic)</td>\n",
       "      <td>52.55</td>\n",
       "      <td></td>\n",
       "      <td>No</td>\n",
       "    </tr>\n",
       "    <tr>\n",
       "      <th>5388</th>\n",
       "      <td>Male</td>\n",
       "      <td>Yes</td>\n",
       "      <td>Yes</td>\n",
       "      <td>No</td>\n",
       "      <td>No internet service</td>\n",
       "      <td>Two year</td>\n",
       "      <td>Mailed check</td>\n",
       "      <td>25.75</td>\n",
       "      <td></td>\n",
       "      <td>No</td>\n",
       "    </tr>\n",
       "  </tbody>\n",
       "</table>\n",
       "</div>"
      ],
      "text/plain": [
       "      gender Partner PhoneService InternetService       OnlineSecurity  \\\n",
       "71    Female     Yes           No             DSL                  Yes   \n",
       "2208    Male     Yes          Yes              No  No internet service   \n",
       "2523    Male     Yes          Yes              No  No internet service   \n",
       "2692    Male     Yes          Yes              No  No internet service   \n",
       "3763  Female     Yes          Yes             DSL                  Yes   \n",
       "4812    Male      No          Yes              No  No internet service   \n",
       "4819  Female     Yes          Yes              No  No internet service   \n",
       "5132  Female     Yes           No             DSL                  Yes   \n",
       "5388    Male     Yes          Yes              No  No internet service   \n",
       "\n",
       "      Contract              PaymentMethod  MonthlyCharges TotalCharges Churn  \n",
       "71    Two year    Credit card (automatic)           56.05                 No  \n",
       "2208  Two year               Mailed check           25.35                 No  \n",
       "2523  One year               Mailed check           19.70                 No  \n",
       "2692  Two year               Mailed check           19.85                 No  \n",
       "3763  Two year               Mailed check           80.85                 No  \n",
       "4812  Two year               Mailed check           20.25                 No  \n",
       "4819  Two year               Mailed check           20.00                 No  \n",
       "5132  Two year  Bank transfer (automatic)           52.55                 No  \n",
       "5388  Two year               Mailed check           25.75                 No  "
      ]
     },
     "execution_count": 169,
     "metadata": {},
     "output_type": "execute_result"
    }
   ],
   "source": [
    "data[data['TotalCharges'] == ' ']"
   ]
  },
  {
   "cell_type": "markdown",
   "metadata": {},
   "source": [
    "We have then decided to substitute those missing values with the median of the column."
   ]
  },
  {
   "cell_type": "code",
   "execution_count": 170,
   "metadata": {},
   "outputs": [],
   "source": [
    "filt = (data[\"TotalCharges\"] == ' ')\n",
    "median = data.loc[~filt,\"TotalCharges\"].astype('float').median()\n",
    "data.loc[filt, \"TotalCharges\"] = str(median)\n",
    "data[\"TotalCharges\"] = data[\"TotalCharges\"].astype('float')"
   ]
  },
  {
   "cell_type": "code",
   "execution_count": 171,
   "metadata": {},
   "outputs": [
    {
     "data": {
      "text/html": [
       "<div>\n",
       "<style scoped>\n",
       "    .dataframe tbody tr th:only-of-type {\n",
       "        vertical-align: middle;\n",
       "    }\n",
       "\n",
       "    .dataframe tbody tr th {\n",
       "        vertical-align: top;\n",
       "    }\n",
       "\n",
       "    .dataframe thead th {\n",
       "        text-align: right;\n",
       "    }\n",
       "</style>\n",
       "<table border=\"1\" class=\"dataframe\">\n",
       "  <thead>\n",
       "    <tr style=\"text-align: right;\">\n",
       "      <th></th>\n",
       "      <th>MonthlyCharges</th>\n",
       "      <th>TotalCharges</th>\n",
       "    </tr>\n",
       "  </thead>\n",
       "  <tbody>\n",
       "    <tr>\n",
       "      <th>count</th>\n",
       "      <td>5423.000000</td>\n",
       "      <td>5423.000000</td>\n",
       "    </tr>\n",
       "    <tr>\n",
       "      <th>mean</th>\n",
       "      <td>64.776342</td>\n",
       "      <td>2290.462447</td>\n",
       "    </tr>\n",
       "    <tr>\n",
       "      <th>std</th>\n",
       "      <td>30.107733</td>\n",
       "      <td>2263.819322</td>\n",
       "    </tr>\n",
       "    <tr>\n",
       "      <th>min</th>\n",
       "      <td>18.250000</td>\n",
       "      <td>18.800000</td>\n",
       "    </tr>\n",
       "    <tr>\n",
       "      <th>25%</th>\n",
       "      <td>35.450000</td>\n",
       "      <td>411.675000</td>\n",
       "    </tr>\n",
       "    <tr>\n",
       "      <th>50%</th>\n",
       "      <td>70.450000</td>\n",
       "      <td>1404.200000</td>\n",
       "    </tr>\n",
       "    <tr>\n",
       "      <th>75%</th>\n",
       "      <td>89.875000</td>\n",
       "      <td>3807.675000</td>\n",
       "    </tr>\n",
       "    <tr>\n",
       "      <th>max</th>\n",
       "      <td>118.600000</td>\n",
       "      <td>8684.800000</td>\n",
       "    </tr>\n",
       "  </tbody>\n",
       "</table>\n",
       "</div>"
      ],
      "text/plain": [
       "       MonthlyCharges  TotalCharges\n",
       "count     5423.000000   5423.000000\n",
       "mean        64.776342   2290.462447\n",
       "std         30.107733   2263.819322\n",
       "min         18.250000     18.800000\n",
       "25%         35.450000    411.675000\n",
       "50%         70.450000   1404.200000\n",
       "75%         89.875000   3807.675000\n",
       "max        118.600000   8684.800000"
      ]
     },
     "execution_count": 171,
     "metadata": {},
     "output_type": "execute_result"
    }
   ],
   "source": [
    "data.describe()"
   ]
  },
  {
   "cell_type": "markdown",
   "metadata": {},
   "source": [
    "## Feature engineering"
   ]
  },
  {
   "cell_type": "markdown",
   "metadata": {},
   "source": [
    "We divided the features in three categories and transformed categorical and binary columns using encoders."
   ]
  },
  {
   "cell_type": "code",
   "execution_count": 172,
   "metadata": {},
   "outputs": [],
   "source": [
    "categorical_features = ['InternetService', 'PaymentMethod', 'OnlineSecurity']\n",
    "numerical_features = ['MonthlyCharges', 'TotalCharges']\n",
    "binary_features = ['gender', 'Partner', 'PhoneService', 'Contract']"
   ]
  },
  {
   "cell_type": "code",
   "execution_count": 173,
   "metadata": {},
   "outputs": [
    {
     "data": {
      "text/plain": [
       "array(['gender', 'Partner', 'PhoneService', 'Contract', 'DSL',\n",
       "       'Fiber optic', 'NoInternet', 'Bank transfer (automatic)',\n",
       "       'Credit card (automatic)', 'Electronic check', 'Mailed check',\n",
       "       'No', 'No internet service', 'OnlineSecurity', 'MonthlyCharges',\n",
       "       'TotalCharges'], dtype=object)"
      ]
     },
     "execution_count": 173,
     "metadata": {},
     "output_type": "execute_result"
    }
   ],
   "source": [
    "from sklearn.preprocessing import OneHotEncoder, OrdinalEncoder\n",
    "\n",
    "encoder = OneHotEncoder(sparse=False)\n",
    "ordinal_encoder = OrdinalEncoder()\n",
    "\n",
    "cat_features = encoder.fit_transform(data[categorical_features])\n",
    "bin_features = ordinal_encoder.fit_transform(data[binary_features])\n",
    "\n",
    "columns = np.array(encoder.categories_)\n",
    "\n",
    "binary_cols = np.array(binary_features)\n",
    "num_cols = np.array(numerical_features)\n",
    "columns = np.concatenate(tuple(columns))\n",
    "all_columns = np.concatenate((binary_cols, columns, num_cols))\n",
    "all_columns[6] = 'NoInternet'\n",
    "all_columns[-3] = 'OnlineSecurity'\n",
    "all_columns"
   ]
  },
  {
   "cell_type": "code",
   "execution_count": 174,
   "metadata": {},
   "outputs": [],
   "source": [
    "from sklearn.preprocessing import LabelEncoder\n",
    "\n",
    "lab_encoder = LabelEncoder()\n",
    "labels = lab_encoder.fit_transform(data['Churn'])"
   ]
  },
  {
   "cell_type": "code",
   "execution_count": 175,
   "metadata": {},
   "outputs": [
    {
     "data": {
      "text/html": [
       "<div>\n",
       "<style scoped>\n",
       "    .dataframe tbody tr th:only-of-type {\n",
       "        vertical-align: middle;\n",
       "    }\n",
       "\n",
       "    .dataframe tbody tr th {\n",
       "        vertical-align: top;\n",
       "    }\n",
       "\n",
       "    .dataframe thead th {\n",
       "        text-align: right;\n",
       "    }\n",
       "</style>\n",
       "<table border=\"1\" class=\"dataframe\">\n",
       "  <thead>\n",
       "    <tr style=\"text-align: right;\">\n",
       "      <th></th>\n",
       "      <th>gender</th>\n",
       "      <th>Partner</th>\n",
       "      <th>PhoneService</th>\n",
       "      <th>Contract</th>\n",
       "      <th>DSL</th>\n",
       "      <th>Fiber optic</th>\n",
       "      <th>NoInternet</th>\n",
       "      <th>Bank transfer (automatic)</th>\n",
       "      <th>Credit card (automatic)</th>\n",
       "      <th>Electronic check</th>\n",
       "      <th>Mailed check</th>\n",
       "      <th>No</th>\n",
       "      <th>No internet service</th>\n",
       "      <th>OnlineSecurity</th>\n",
       "      <th>MonthlyCharges</th>\n",
       "      <th>TotalCharges</th>\n",
       "      <th>Churn</th>\n",
       "    </tr>\n",
       "  </thead>\n",
       "  <tbody>\n",
       "    <tr>\n",
       "      <th>0</th>\n",
       "      <td>0.0</td>\n",
       "      <td>0.0</td>\n",
       "      <td>0.0</td>\n",
       "      <td>2.0</td>\n",
       "      <td>1.0</td>\n",
       "      <td>0.0</td>\n",
       "      <td>0.0</td>\n",
       "      <td>0.0</td>\n",
       "      <td>0.0</td>\n",
       "      <td>0.0</td>\n",
       "      <td>1.0</td>\n",
       "      <td>0.0</td>\n",
       "      <td>0.0</td>\n",
       "      <td>1.0</td>\n",
       "      <td>39.70</td>\n",
       "      <td>692.35</td>\n",
       "      <td>0</td>\n",
       "    </tr>\n",
       "    <tr>\n",
       "      <th>1</th>\n",
       "      <td>1.0</td>\n",
       "      <td>0.0</td>\n",
       "      <td>1.0</td>\n",
       "      <td>0.0</td>\n",
       "      <td>1.0</td>\n",
       "      <td>0.0</td>\n",
       "      <td>0.0</td>\n",
       "      <td>1.0</td>\n",
       "      <td>0.0</td>\n",
       "      <td>0.0</td>\n",
       "      <td>0.0</td>\n",
       "      <td>1.0</td>\n",
       "      <td>0.0</td>\n",
       "      <td>0.0</td>\n",
       "      <td>46.05</td>\n",
       "      <td>80.35</td>\n",
       "      <td>1</td>\n",
       "    </tr>\n",
       "    <tr>\n",
       "      <th>2</th>\n",
       "      <td>1.0</td>\n",
       "      <td>1.0</td>\n",
       "      <td>1.0</td>\n",
       "      <td>0.0</td>\n",
       "      <td>0.0</td>\n",
       "      <td>1.0</td>\n",
       "      <td>0.0</td>\n",
       "      <td>0.0</td>\n",
       "      <td>0.0</td>\n",
       "      <td>1.0</td>\n",
       "      <td>0.0</td>\n",
       "      <td>0.0</td>\n",
       "      <td>0.0</td>\n",
       "      <td>1.0</td>\n",
       "      <td>91.80</td>\n",
       "      <td>5960.50</td>\n",
       "      <td>0</td>\n",
       "    </tr>\n",
       "    <tr>\n",
       "      <th>3</th>\n",
       "      <td>1.0</td>\n",
       "      <td>1.0</td>\n",
       "      <td>1.0</td>\n",
       "      <td>1.0</td>\n",
       "      <td>0.0</td>\n",
       "      <td>0.0</td>\n",
       "      <td>1.0</td>\n",
       "      <td>0.0</td>\n",
       "      <td>1.0</td>\n",
       "      <td>0.0</td>\n",
       "      <td>0.0</td>\n",
       "      <td>0.0</td>\n",
       "      <td>1.0</td>\n",
       "      <td>0.0</td>\n",
       "      <td>19.80</td>\n",
       "      <td>576.65</td>\n",
       "      <td>0</td>\n",
       "    </tr>\n",
       "    <tr>\n",
       "      <th>4</th>\n",
       "      <td>1.0</td>\n",
       "      <td>1.0</td>\n",
       "      <td>1.0</td>\n",
       "      <td>1.0</td>\n",
       "      <td>0.0</td>\n",
       "      <td>1.0</td>\n",
       "      <td>0.0</td>\n",
       "      <td>1.0</td>\n",
       "      <td>0.0</td>\n",
       "      <td>0.0</td>\n",
       "      <td>0.0</td>\n",
       "      <td>0.0</td>\n",
       "      <td>0.0</td>\n",
       "      <td>1.0</td>\n",
       "      <td>89.45</td>\n",
       "      <td>5692.65</td>\n",
       "      <td>0</td>\n",
       "    </tr>\n",
       "    <tr>\n",
       "      <th>...</th>\n",
       "      <td>...</td>\n",
       "      <td>...</td>\n",
       "      <td>...</td>\n",
       "      <td>...</td>\n",
       "      <td>...</td>\n",
       "      <td>...</td>\n",
       "      <td>...</td>\n",
       "      <td>...</td>\n",
       "      <td>...</td>\n",
       "      <td>...</td>\n",
       "      <td>...</td>\n",
       "      <td>...</td>\n",
       "      <td>...</td>\n",
       "      <td>...</td>\n",
       "      <td>...</td>\n",
       "      <td>...</td>\n",
       "      <td>...</td>\n",
       "    </tr>\n",
       "    <tr>\n",
       "      <th>5418</th>\n",
       "      <td>1.0</td>\n",
       "      <td>1.0</td>\n",
       "      <td>1.0</td>\n",
       "      <td>0.0</td>\n",
       "      <td>0.0</td>\n",
       "      <td>1.0</td>\n",
       "      <td>0.0</td>\n",
       "      <td>0.0</td>\n",
       "      <td>0.0</td>\n",
       "      <td>1.0</td>\n",
       "      <td>0.0</td>\n",
       "      <td>0.0</td>\n",
       "      <td>0.0</td>\n",
       "      <td>1.0</td>\n",
       "      <td>95.00</td>\n",
       "      <td>95.00</td>\n",
       "      <td>1</td>\n",
       "    </tr>\n",
       "    <tr>\n",
       "      <th>5419</th>\n",
       "      <td>0.0</td>\n",
       "      <td>1.0</td>\n",
       "      <td>1.0</td>\n",
       "      <td>2.0</td>\n",
       "      <td>1.0</td>\n",
       "      <td>0.0</td>\n",
       "      <td>0.0</td>\n",
       "      <td>0.0</td>\n",
       "      <td>1.0</td>\n",
       "      <td>0.0</td>\n",
       "      <td>0.0</td>\n",
       "      <td>0.0</td>\n",
       "      <td>0.0</td>\n",
       "      <td>1.0</td>\n",
       "      <td>91.10</td>\n",
       "      <td>2198.30</td>\n",
       "      <td>0</td>\n",
       "    </tr>\n",
       "    <tr>\n",
       "      <th>5420</th>\n",
       "      <td>1.0</td>\n",
       "      <td>1.0</td>\n",
       "      <td>1.0</td>\n",
       "      <td>0.0</td>\n",
       "      <td>0.0</td>\n",
       "      <td>0.0</td>\n",
       "      <td>1.0</td>\n",
       "      <td>0.0</td>\n",
       "      <td>0.0</td>\n",
       "      <td>1.0</td>\n",
       "      <td>0.0</td>\n",
       "      <td>0.0</td>\n",
       "      <td>1.0</td>\n",
       "      <td>0.0</td>\n",
       "      <td>21.15</td>\n",
       "      <td>306.05</td>\n",
       "      <td>0</td>\n",
       "    </tr>\n",
       "    <tr>\n",
       "      <th>5421</th>\n",
       "      <td>1.0</td>\n",
       "      <td>0.0</td>\n",
       "      <td>1.0</td>\n",
       "      <td>0.0</td>\n",
       "      <td>0.0</td>\n",
       "      <td>1.0</td>\n",
       "      <td>0.0</td>\n",
       "      <td>0.0</td>\n",
       "      <td>0.0</td>\n",
       "      <td>1.0</td>\n",
       "      <td>0.0</td>\n",
       "      <td>1.0</td>\n",
       "      <td>0.0</td>\n",
       "      <td>0.0</td>\n",
       "      <td>99.45</td>\n",
       "      <td>1200.15</td>\n",
       "      <td>1</td>\n",
       "    </tr>\n",
       "    <tr>\n",
       "      <th>5422</th>\n",
       "      <td>1.0</td>\n",
       "      <td>0.0</td>\n",
       "      <td>1.0</td>\n",
       "      <td>1.0</td>\n",
       "      <td>0.0</td>\n",
       "      <td>0.0</td>\n",
       "      <td>1.0</td>\n",
       "      <td>0.0</td>\n",
       "      <td>1.0</td>\n",
       "      <td>0.0</td>\n",
       "      <td>0.0</td>\n",
       "      <td>0.0</td>\n",
       "      <td>1.0</td>\n",
       "      <td>0.0</td>\n",
       "      <td>19.80</td>\n",
       "      <td>457.30</td>\n",
       "      <td>0</td>\n",
       "    </tr>\n",
       "  </tbody>\n",
       "</table>\n",
       "<p>5423 rows × 17 columns</p>\n",
       "</div>"
      ],
      "text/plain": [
       "      gender  Partner  PhoneService  Contract  DSL  Fiber optic  NoInternet  \\\n",
       "0        0.0      0.0           0.0       2.0  1.0          0.0         0.0   \n",
       "1        1.0      0.0           1.0       0.0  1.0          0.0         0.0   \n",
       "2        1.0      1.0           1.0       0.0  0.0          1.0         0.0   \n",
       "3        1.0      1.0           1.0       1.0  0.0          0.0         1.0   \n",
       "4        1.0      1.0           1.0       1.0  0.0          1.0         0.0   \n",
       "...      ...      ...           ...       ...  ...          ...         ...   \n",
       "5418     1.0      1.0           1.0       0.0  0.0          1.0         0.0   \n",
       "5419     0.0      1.0           1.0       2.0  1.0          0.0         0.0   \n",
       "5420     1.0      1.0           1.0       0.0  0.0          0.0         1.0   \n",
       "5421     1.0      0.0           1.0       0.0  0.0          1.0         0.0   \n",
       "5422     1.0      0.0           1.0       1.0  0.0          0.0         1.0   \n",
       "\n",
       "      Bank transfer (automatic)  Credit card (automatic)  Electronic check  \\\n",
       "0                           0.0                      0.0               0.0   \n",
       "1                           1.0                      0.0               0.0   \n",
       "2                           0.0                      0.0               1.0   \n",
       "3                           0.0                      1.0               0.0   \n",
       "4                           1.0                      0.0               0.0   \n",
       "...                         ...                      ...               ...   \n",
       "5418                        0.0                      0.0               1.0   \n",
       "5419                        0.0                      1.0               0.0   \n",
       "5420                        0.0                      0.0               1.0   \n",
       "5421                        0.0                      0.0               1.0   \n",
       "5422                        0.0                      1.0               0.0   \n",
       "\n",
       "      Mailed check   No  No internet service  OnlineSecurity  MonthlyCharges  \\\n",
       "0              1.0  0.0                  0.0             1.0           39.70   \n",
       "1              0.0  1.0                  0.0             0.0           46.05   \n",
       "2              0.0  0.0                  0.0             1.0           91.80   \n",
       "3              0.0  0.0                  1.0             0.0           19.80   \n",
       "4              0.0  0.0                  0.0             1.0           89.45   \n",
       "...            ...  ...                  ...             ...             ...   \n",
       "5418           0.0  0.0                  0.0             1.0           95.00   \n",
       "5419           0.0  0.0                  0.0             1.0           91.10   \n",
       "5420           0.0  0.0                  1.0             0.0           21.15   \n",
       "5421           0.0  1.0                  0.0             0.0           99.45   \n",
       "5422           0.0  0.0                  1.0             0.0           19.80   \n",
       "\n",
       "      TotalCharges  Churn  \n",
       "0           692.35      0  \n",
       "1            80.35      1  \n",
       "2          5960.50      0  \n",
       "3           576.65      0  \n",
       "4          5692.65      0  \n",
       "...            ...    ...  \n",
       "5418         95.00      1  \n",
       "5419       2198.30      0  \n",
       "5420        306.05      0  \n",
       "5421       1200.15      1  \n",
       "5422        457.30      0  \n",
       "\n",
       "[5423 rows x 17 columns]"
      ]
     },
     "execution_count": 175,
     "metadata": {},
     "output_type": "execute_result"
    }
   ],
   "source": [
    "num_features = data[numerical_features].to_numpy()\n",
    "\n",
    "df = np.hstack((bin_features, cat_features, num_features))\n",
    "frame = pd.DataFrame(df, columns = all_columns)\n",
    "frame['Churn'] = labels\n",
    "frame"
   ]
  },
  {
   "cell_type": "markdown",
   "metadata": {},
   "source": [
    "Here we calculate the correlations between the variables, highlighting the correlation between each variable and 'Churn'"
   ]
  },
  {
   "cell_type": "code",
   "execution_count": 176,
   "metadata": {},
   "outputs": [
    {
     "data": {
      "image/png": "[encoded data removed]",
      "text/plain": [
       "<Figure size 432x288 with 1 Axes>"
      ]
     },
     "metadata": {
      "needs_background": "light"
     },
     "output_type": "display_data"
    },
    {
     "name": "stdout",
     "output_type": "stream",
     "text": [
      "Correlation between features and churn: \n",
      "gender                      -0.009327\n",
      "Partner                     -0.149204\n",
      "PhoneService                 0.009064\n",
      "Contract                    -0.392853\n",
      "DSL                         -0.119299\n",
      "Fiber optic                  0.300296\n",
      "NoInternet                  -0.224051\n",
      "Bank transfer (automatic)   -0.107766\n",
      "Credit card (automatic)     -0.138025\n",
      "Electronic check             0.296511\n",
      "Mailed check                -0.091831\n",
      "No                           0.339964\n",
      "No internet service         -0.224051\n",
      "OnlineSecurity              -0.171764\n",
      "MonthlyCharges               0.187383\n",
      "TotalCharges                -0.194419\n",
      "Churn                        1.000000\n",
      "Name: Churn, dtype: float64\n"
     ]
    }
   ],
   "source": [
    "def get_correlations(frame):\n",
    "    correlations = np.corrcoef(frame, rowvar=False)\n",
    "    n = correlations.shape[1]\n",
    "    fig, ax = plt.subplots()\n",
    "    im = ax.imshow(correlations)\n",
    "\n",
    "    ax.set_xticks(np.arange(n))\n",
    "    ax.set_yticks(np.arange(n))\n",
    "\n",
    "    ax.set_xticklabels(frame.columns)\n",
    "    ax.set_yticklabels(frame.columns)\n",
    "    plt.setp(ax.get_xticklabels(), rotation=45, ha=\"right\",\n",
    "             rotation_mode=\"anchor\")\n",
    "    plt.title('Features correlation')\n",
    "    plt.show()\n",
    "    \n",
    "    correlations = pd.DataFrame(correlations, columns = frame.columns, index = frame.columns)\n",
    "    print(f'Correlation between features and churn: \\n{correlations[\"Churn\"]}')\n",
    "    return correlations\n",
    "\n",
    "correlations = get_correlations(frame)"
   ]
  },
  {
   "cell_type": "markdown",
   "metadata": {},
   "source": [
    "Since some of the columns have a really low correlation with respect to Churn we decided to drop them and to group the phone service and online security in one single column of added services. We also dropped No Internet Service because it is a repetition of No Internet. Moreover, we divided total charges by the monthly charges in order to have an estimate of the total time that clients spent with the company, represented by the variable 'Months'"
   ]
  },
  {
   "cell_type": "code",
   "execution_count": 177,
   "metadata": {},
   "outputs": [],
   "source": [
    "noisy_columns = frame[['gender', 'No internet service', 'PhoneService', 'OnlineSecurity',\n",
    "                       'Credit card (automatic)', 'Mailed check']]\n",
    "\n",
    "frame['Bank transfer (automatic)'] = frame['Bank transfer (automatic)'] + frame['Credit card (automatic)']\n",
    "frame.rename(columns={'Bank transfer (automatic)':'AutomaticPayment'}, inplace=True)\n",
    "frame.rename(columns={'No': 'NoOnlineSecurity'}, inplace=True)\n",
    "ads = frame['PhoneService'] + frame['OnlineSecurity']\n",
    "\n",
    "time = frame['TotalCharges'] / frame['MonthlyCharges']\n",
    "frame['TotalCharges'] = time\n",
    "frame.rename(columns={'TotalCharges':'Months'}, inplace=True)\n",
    "\n",
    "frame.drop(columns=noisy_columns, inplace=True)\n",
    "frame['AddServices'] = ads"
   ]
  },
  {
   "cell_type": "code",
   "execution_count": 178,
   "metadata": {},
   "outputs": [
    {
     "data": {
      "text/html": [
       "<div>\n",
       "<style scoped>\n",
       "    .dataframe tbody tr th:only-of-type {\n",
       "        vertical-align: middle;\n",
       "    }\n",
       "\n",
       "    .dataframe tbody tr th {\n",
       "        vertical-align: top;\n",
       "    }\n",
       "\n",
       "    .dataframe thead th {\n",
       "        text-align: right;\n",
       "    }\n",
       "</style>\n",
       "<table border=\"1\" class=\"dataframe\">\n",
       "  <thead>\n",
       "    <tr style=\"text-align: right;\">\n",
       "      <th></th>\n",
       "      <th>Partner</th>\n",
       "      <th>Contract</th>\n",
       "      <th>DSL</th>\n",
       "      <th>Fiber optic</th>\n",
       "      <th>NoInternet</th>\n",
       "      <th>AutomaticPayment</th>\n",
       "      <th>Electronic check</th>\n",
       "      <th>NoOnlineSecurity</th>\n",
       "      <th>MonthlyCharges</th>\n",
       "      <th>Months</th>\n",
       "      <th>Churn</th>\n",
       "      <th>AddServices</th>\n",
       "    </tr>\n",
       "  </thead>\n",
       "  <tbody>\n",
       "    <tr>\n",
       "      <th>0</th>\n",
       "      <td>0.0</td>\n",
       "      <td>2.0</td>\n",
       "      <td>1.0</td>\n",
       "      <td>0.0</td>\n",
       "      <td>0.0</td>\n",
       "      <td>0.0</td>\n",
       "      <td>0.0</td>\n",
       "      <td>0.0</td>\n",
       "      <td>39.70</td>\n",
       "      <td>17.439547</td>\n",
       "      <td>0</td>\n",
       "      <td>1.0</td>\n",
       "    </tr>\n",
       "    <tr>\n",
       "      <th>1</th>\n",
       "      <td>0.0</td>\n",
       "      <td>0.0</td>\n",
       "      <td>1.0</td>\n",
       "      <td>0.0</td>\n",
       "      <td>0.0</td>\n",
       "      <td>1.0</td>\n",
       "      <td>0.0</td>\n",
       "      <td>1.0</td>\n",
       "      <td>46.05</td>\n",
       "      <td>1.744843</td>\n",
       "      <td>1</td>\n",
       "      <td>1.0</td>\n",
       "    </tr>\n",
       "    <tr>\n",
       "      <th>2</th>\n",
       "      <td>1.0</td>\n",
       "      <td>0.0</td>\n",
       "      <td>0.0</td>\n",
       "      <td>1.0</td>\n",
       "      <td>0.0</td>\n",
       "      <td>0.0</td>\n",
       "      <td>1.0</td>\n",
       "      <td>0.0</td>\n",
       "      <td>91.80</td>\n",
       "      <td>64.929194</td>\n",
       "      <td>0</td>\n",
       "      <td>2.0</td>\n",
       "    </tr>\n",
       "    <tr>\n",
       "      <th>3</th>\n",
       "      <td>1.0</td>\n",
       "      <td>1.0</td>\n",
       "      <td>0.0</td>\n",
       "      <td>0.0</td>\n",
       "      <td>1.0</td>\n",
       "      <td>1.0</td>\n",
       "      <td>0.0</td>\n",
       "      <td>0.0</td>\n",
       "      <td>19.80</td>\n",
       "      <td>29.123737</td>\n",
       "      <td>0</td>\n",
       "      <td>1.0</td>\n",
       "    </tr>\n",
       "    <tr>\n",
       "      <th>4</th>\n",
       "      <td>1.0</td>\n",
       "      <td>1.0</td>\n",
       "      <td>0.0</td>\n",
       "      <td>1.0</td>\n",
       "      <td>0.0</td>\n",
       "      <td>1.0</td>\n",
       "      <td>0.0</td>\n",
       "      <td>0.0</td>\n",
       "      <td>89.45</td>\n",
       "      <td>63.640581</td>\n",
       "      <td>0</td>\n",
       "      <td>2.0</td>\n",
       "    </tr>\n",
       "    <tr>\n",
       "      <th>...</th>\n",
       "      <td>...</td>\n",
       "      <td>...</td>\n",
       "      <td>...</td>\n",
       "      <td>...</td>\n",
       "      <td>...</td>\n",
       "      <td>...</td>\n",
       "      <td>...</td>\n",
       "      <td>...</td>\n",
       "      <td>...</td>\n",
       "      <td>...</td>\n",
       "      <td>...</td>\n",
       "      <td>...</td>\n",
       "    </tr>\n",
       "    <tr>\n",
       "      <th>5418</th>\n",
       "      <td>1.0</td>\n",
       "      <td>0.0</td>\n",
       "      <td>0.0</td>\n",
       "      <td>1.0</td>\n",
       "      <td>0.0</td>\n",
       "      <td>0.0</td>\n",
       "      <td>1.0</td>\n",
       "      <td>0.0</td>\n",
       "      <td>95.00</td>\n",
       "      <td>1.000000</td>\n",
       "      <td>1</td>\n",
       "      <td>2.0</td>\n",
       "    </tr>\n",
       "    <tr>\n",
       "      <th>5419</th>\n",
       "      <td>1.0</td>\n",
       "      <td>2.0</td>\n",
       "      <td>1.0</td>\n",
       "      <td>0.0</td>\n",
       "      <td>0.0</td>\n",
       "      <td>1.0</td>\n",
       "      <td>0.0</td>\n",
       "      <td>0.0</td>\n",
       "      <td>91.10</td>\n",
       "      <td>24.130626</td>\n",
       "      <td>0</td>\n",
       "      <td>2.0</td>\n",
       "    </tr>\n",
       "    <tr>\n",
       "      <th>5420</th>\n",
       "      <td>1.0</td>\n",
       "      <td>0.0</td>\n",
       "      <td>0.0</td>\n",
       "      <td>0.0</td>\n",
       "      <td>1.0</td>\n",
       "      <td>0.0</td>\n",
       "      <td>1.0</td>\n",
       "      <td>0.0</td>\n",
       "      <td>21.15</td>\n",
       "      <td>14.470449</td>\n",
       "      <td>0</td>\n",
       "      <td>1.0</td>\n",
       "    </tr>\n",
       "    <tr>\n",
       "      <th>5421</th>\n",
       "      <td>0.0</td>\n",
       "      <td>0.0</td>\n",
       "      <td>0.0</td>\n",
       "      <td>1.0</td>\n",
       "      <td>0.0</td>\n",
       "      <td>0.0</td>\n",
       "      <td>1.0</td>\n",
       "      <td>1.0</td>\n",
       "      <td>99.45</td>\n",
       "      <td>12.067873</td>\n",
       "      <td>1</td>\n",
       "      <td>1.0</td>\n",
       "    </tr>\n",
       "    <tr>\n",
       "      <th>5422</th>\n",
       "      <td>0.0</td>\n",
       "      <td>1.0</td>\n",
       "      <td>0.0</td>\n",
       "      <td>0.0</td>\n",
       "      <td>1.0</td>\n",
       "      <td>1.0</td>\n",
       "      <td>0.0</td>\n",
       "      <td>0.0</td>\n",
       "      <td>19.80</td>\n",
       "      <td>23.095960</td>\n",
       "      <td>0</td>\n",
       "      <td>1.0</td>\n",
       "    </tr>\n",
       "  </tbody>\n",
       "</table>\n",
       "<p>5423 rows × 12 columns</p>\n",
       "</div>"
      ],
      "text/plain": [
       "      Partner  Contract  DSL  Fiber optic  NoInternet  AutomaticPayment  \\\n",
       "0         0.0       2.0  1.0          0.0         0.0               0.0   \n",
       "1         0.0       0.0  1.0          0.0         0.0               1.0   \n",
       "2         1.0       0.0  0.0          1.0         0.0               0.0   \n",
       "3         1.0       1.0  0.0          0.0         1.0               1.0   \n",
       "4         1.0       1.0  0.0          1.0         0.0               1.0   \n",
       "...       ...       ...  ...          ...         ...               ...   \n",
       "5418      1.0       0.0  0.0          1.0         0.0               0.0   \n",
       "5419      1.0       2.0  1.0          0.0         0.0               1.0   \n",
       "5420      1.0       0.0  0.0          0.0         1.0               0.0   \n",
       "5421      0.0       0.0  0.0          1.0         0.0               0.0   \n",
       "5422      0.0       1.0  0.0          0.0         1.0               1.0   \n",
       "\n",
       "      Electronic check  NoOnlineSecurity  MonthlyCharges     Months  Churn  \\\n",
       "0                  0.0               0.0           39.70  17.439547      0   \n",
       "1                  0.0               1.0           46.05   1.744843      1   \n",
       "2                  1.0               0.0           91.80  64.929194      0   \n",
       "3                  0.0               0.0           19.80  29.123737      0   \n",
       "4                  0.0               0.0           89.45  63.640581      0   \n",
       "...                ...               ...             ...        ...    ...   \n",
       "5418               1.0               0.0           95.00   1.000000      1   \n",
       "5419               0.0               0.0           91.10  24.130626      0   \n",
       "5420               1.0               0.0           21.15  14.470449      0   \n",
       "5421               1.0               1.0           99.45  12.067873      1   \n",
       "5422               0.0               0.0           19.80  23.095960      0   \n",
       "\n",
       "      AddServices  \n",
       "0             1.0  \n",
       "1             1.0  \n",
       "2             2.0  \n",
       "3             1.0  \n",
       "4             2.0  \n",
       "...           ...  \n",
       "5418          2.0  \n",
       "5419          2.0  \n",
       "5420          1.0  \n",
       "5421          1.0  \n",
       "5422          1.0  \n",
       "\n",
       "[5423 rows x 12 columns]"
      ]
     },
     "execution_count": 178,
     "metadata": {},
     "output_type": "execute_result"
    }
   ],
   "source": [
    "frame"
   ]
  },
  {
   "cell_type": "markdown",
   "metadata": {},
   "source": [
    "## Outliers Detection"
   ]
  },
  {
   "cell_type": "markdown",
   "metadata": {},
   "source": [
    "Here we define a function which evaluates the possible outliers and apply it in order to drop them, since they may harm our previsions."
   ]
  },
  {
   "cell_type": "code",
   "execution_count": 179,
   "metadata": {},
   "outputs": [],
   "source": [
    "def get_outliers(s):\n",
    "    q3 = s.quantile(0.75)\n",
    "    q1 = s.quantile(0.25)\n",
    "    iqr = q3 - q1\n",
    "    return s[(s > q3 + 1.5*iqr) | (s < q1 - 1.5*iqr)]"
   ]
  },
  {
   "cell_type": "markdown",
   "metadata": {},
   "source": [
    "We looked for outliers considering specific combinations of features:"
   ]
  },
  {
   "cell_type": "code",
   "execution_count": 180,
   "metadata": {
    "scrolled": true
   },
   "outputs": [
    {
     "data": {
      "image/png": "[encoded data removed]",
      "text/plain": [
       "<Figure size 432x288 with 1 Axes>"
      ]
     },
     "metadata": {
      "needs_background": "light"
     },
     "output_type": "display_data"
    }
   ],
   "source": [
    "filt = (frame['Contract'] == 2.0)\n",
    "filt2 = (frame['Fiber optic'] == 1.0)\n",
    "filt4 = (frame['NoOnlineSecurity'] == 1.0)\n",
    "frame[filt & filt2 & filt4]['Months'].plot.box()\n",
    "plt.show()"
   ]
  },
  {
   "cell_type": "code",
   "execution_count": 181,
   "metadata": {},
   "outputs": [],
   "source": [
    "to_drop = get_outliers(frame[filt & filt2 & filt4]['Months'])\n",
    "frame.drop(to_drop.index, inplace=True)"
   ]
  },
  {
   "cell_type": "code",
   "execution_count": 182,
   "metadata": {},
   "outputs": [
    {
     "data": {
      "image/png": "[encoded data removed]",
      "text/plain": [
       "<Figure size 432x288 with 1 Axes>"
      ]
     },
     "metadata": {
      "needs_background": "light"
     },
     "output_type": "display_data"
    }
   ],
   "source": [
    "s = frame[(frame['Churn'] == 1.0)]['Months']\n",
    "s.plot.box()\n",
    "plt.show()"
   ]
  },
  {
   "cell_type": "code",
   "execution_count": 183,
   "metadata": {},
   "outputs": [],
   "source": [
    "to_drop = get_outliers(s)\n",
    "frame.drop(to_drop.index, inplace=True)"
   ]
  },
  {
   "cell_type": "code",
   "execution_count": 184,
   "metadata": {},
   "outputs": [
    {
     "data": {
      "image/png": "[encoded data removed]",
      "text/plain": [
       "<Figure size 432x288 with 1 Axes>"
      ]
     },
     "metadata": {
      "needs_background": "light"
     },
     "output_type": "display_data"
    }
   ],
   "source": [
    "filt = (frame['Contract'] == 0.0)\n",
    "s = frame[(frame['Churn'] == 1.0) & filt]['Months']\n",
    "s.plot.box()\n",
    "plt.show()"
   ]
  },
  {
   "cell_type": "code",
   "execution_count": 185,
   "metadata": {},
   "outputs": [],
   "source": [
    "to_drop = get_outliers(s)\n",
    "frame.drop(to_drop.index, inplace=True)"
   ]
  },
  {
   "cell_type": "code",
   "execution_count": 186,
   "metadata": {},
   "outputs": [
    {
     "data": {
      "image/png": "[encoded data removed]",
      "text/plain": [
       "<Figure size 432x288 with 1 Axes>"
      ]
     },
     "metadata": {
      "needs_background": "light"
     },
     "output_type": "display_data"
    }
   ],
   "source": [
    "filt = (frame['Contract'] == 2.0)\n",
    "frame[filt & (frame['Churn'] == 1.0)]['Months'].plot.box()\n",
    "plt.show()"
   ]
  },
  {
   "cell_type": "code",
   "execution_count": 187,
   "metadata": {},
   "outputs": [],
   "source": [
    "to_drop = get_outliers(frame[filt & (frame['Churn'] == 1.0)]['Months'])\n",
    "frame.drop(to_drop.index, inplace=True)"
   ]
  },
  {
   "cell_type": "markdown",
   "metadata": {},
   "source": [
    "# Models training"
   ]
  },
  {
   "cell_type": "markdown",
   "metadata": {},
   "source": [
    "We separate labels from independent varibales:"
   ]
  },
  {
   "cell_type": "code",
   "execution_count": 188,
   "metadata": {},
   "outputs": [],
   "source": [
    "labels = frame['Churn'].to_numpy()\n",
    "frame.drop(columns=['Churn'], inplace=True)\n",
    "df = frame.to_numpy()"
   ]
  },
  {
   "cell_type": "markdown",
   "metadata": {},
   "source": [
    "This is the frame resulting from preprocessing, which will be used to train the algorithms"
   ]
  },
  {
   "cell_type": "code",
   "execution_count": 189,
   "metadata": {},
   "outputs": [
    {
     "data": {
      "text/html": [
       "<div>\n",
       "<style scoped>\n",
       "    .dataframe tbody tr th:only-of-type {\n",
       "        vertical-align: middle;\n",
       "    }\n",
       "\n",
       "    .dataframe tbody tr th {\n",
       "        vertical-align: top;\n",
       "    }\n",
       "\n",
       "    .dataframe thead th {\n",
       "        text-align: right;\n",
       "    }\n",
       "</style>\n",
       "<table border=\"1\" class=\"dataframe\">\n",
       "  <thead>\n",
       "    <tr style=\"text-align: right;\">\n",
       "      <th></th>\n",
       "      <th>Partner</th>\n",
       "      <th>Contract</th>\n",
       "      <th>DSL</th>\n",
       "      <th>Fiber optic</th>\n",
       "      <th>NoInternet</th>\n",
       "      <th>AutomaticPayment</th>\n",
       "      <th>Electronic check</th>\n",
       "      <th>NoOnlineSecurity</th>\n",
       "      <th>MonthlyCharges</th>\n",
       "      <th>Months</th>\n",
       "      <th>AddServices</th>\n",
       "    </tr>\n",
       "  </thead>\n",
       "  <tbody>\n",
       "    <tr>\n",
       "      <th>0</th>\n",
       "      <td>0.0</td>\n",
       "      <td>2.0</td>\n",
       "      <td>1.0</td>\n",
       "      <td>0.0</td>\n",
       "      <td>0.0</td>\n",
       "      <td>0.0</td>\n",
       "      <td>0.0</td>\n",
       "      <td>0.0</td>\n",
       "      <td>39.70</td>\n",
       "      <td>17.439547</td>\n",
       "      <td>1.0</td>\n",
       "    </tr>\n",
       "    <tr>\n",
       "      <th>1</th>\n",
       "      <td>0.0</td>\n",
       "      <td>0.0</td>\n",
       "      <td>1.0</td>\n",
       "      <td>0.0</td>\n",
       "      <td>0.0</td>\n",
       "      <td>1.0</td>\n",
       "      <td>0.0</td>\n",
       "      <td>1.0</td>\n",
       "      <td>46.05</td>\n",
       "      <td>1.744843</td>\n",
       "      <td>1.0</td>\n",
       "    </tr>\n",
       "    <tr>\n",
       "      <th>2</th>\n",
       "      <td>1.0</td>\n",
       "      <td>0.0</td>\n",
       "      <td>0.0</td>\n",
       "      <td>1.0</td>\n",
       "      <td>0.0</td>\n",
       "      <td>0.0</td>\n",
       "      <td>1.0</td>\n",
       "      <td>0.0</td>\n",
       "      <td>91.80</td>\n",
       "      <td>64.929194</td>\n",
       "      <td>2.0</td>\n",
       "    </tr>\n",
       "    <tr>\n",
       "      <th>3</th>\n",
       "      <td>1.0</td>\n",
       "      <td>1.0</td>\n",
       "      <td>0.0</td>\n",
       "      <td>0.0</td>\n",
       "      <td>1.0</td>\n",
       "      <td>1.0</td>\n",
       "      <td>0.0</td>\n",
       "      <td>0.0</td>\n",
       "      <td>19.80</td>\n",
       "      <td>29.123737</td>\n",
       "      <td>1.0</td>\n",
       "    </tr>\n",
       "    <tr>\n",
       "      <th>4</th>\n",
       "      <td>1.0</td>\n",
       "      <td>1.0</td>\n",
       "      <td>0.0</td>\n",
       "      <td>1.0</td>\n",
       "      <td>0.0</td>\n",
       "      <td>1.0</td>\n",
       "      <td>0.0</td>\n",
       "      <td>0.0</td>\n",
       "      <td>89.45</td>\n",
       "      <td>63.640581</td>\n",
       "      <td>2.0</td>\n",
       "    </tr>\n",
       "    <tr>\n",
       "      <th>...</th>\n",
       "      <td>...</td>\n",
       "      <td>...</td>\n",
       "      <td>...</td>\n",
       "      <td>...</td>\n",
       "      <td>...</td>\n",
       "      <td>...</td>\n",
       "      <td>...</td>\n",
       "      <td>...</td>\n",
       "      <td>...</td>\n",
       "      <td>...</td>\n",
       "      <td>...</td>\n",
       "    </tr>\n",
       "    <tr>\n",
       "      <th>5418</th>\n",
       "      <td>1.0</td>\n",
       "      <td>0.0</td>\n",
       "      <td>0.0</td>\n",
       "      <td>1.0</td>\n",
       "      <td>0.0</td>\n",
       "      <td>0.0</td>\n",
       "      <td>1.0</td>\n",
       "      <td>0.0</td>\n",
       "      <td>95.00</td>\n",
       "      <td>1.000000</td>\n",
       "      <td>2.0</td>\n",
       "    </tr>\n",
       "    <tr>\n",
       "      <th>5419</th>\n",
       "      <td>1.0</td>\n",
       "      <td>2.0</td>\n",
       "      <td>1.0</td>\n",
       "      <td>0.0</td>\n",
       "      <td>0.0</td>\n",
       "      <td>1.0</td>\n",
       "      <td>0.0</td>\n",
       "      <td>0.0</td>\n",
       "      <td>91.10</td>\n",
       "      <td>24.130626</td>\n",
       "      <td>2.0</td>\n",
       "    </tr>\n",
       "    <tr>\n",
       "      <th>5420</th>\n",
       "      <td>1.0</td>\n",
       "      <td>0.0</td>\n",
       "      <td>0.0</td>\n",
       "      <td>0.0</td>\n",
       "      <td>1.0</td>\n",
       "      <td>0.0</td>\n",
       "      <td>1.0</td>\n",
       "      <td>0.0</td>\n",
       "      <td>21.15</td>\n",
       "      <td>14.470449</td>\n",
       "      <td>1.0</td>\n",
       "    </tr>\n",
       "    <tr>\n",
       "      <th>5421</th>\n",
       "      <td>0.0</td>\n",
       "      <td>0.0</td>\n",
       "      <td>0.0</td>\n",
       "      <td>1.0</td>\n",
       "      <td>0.0</td>\n",
       "      <td>0.0</td>\n",
       "      <td>1.0</td>\n",
       "      <td>1.0</td>\n",
       "      <td>99.45</td>\n",
       "      <td>12.067873</td>\n",
       "      <td>1.0</td>\n",
       "    </tr>\n",
       "    <tr>\n",
       "      <th>5422</th>\n",
       "      <td>0.0</td>\n",
       "      <td>1.0</td>\n",
       "      <td>0.0</td>\n",
       "      <td>0.0</td>\n",
       "      <td>1.0</td>\n",
       "      <td>1.0</td>\n",
       "      <td>0.0</td>\n",
       "      <td>0.0</td>\n",
       "      <td>19.80</td>\n",
       "      <td>23.095960</td>\n",
       "      <td>1.0</td>\n",
       "    </tr>\n",
       "  </tbody>\n",
       "</table>\n",
       "<p>5360 rows × 11 columns</p>\n",
       "</div>"
      ],
      "text/plain": [
       "      Partner  Contract  DSL  Fiber optic  NoInternet  AutomaticPayment  \\\n",
       "0         0.0       2.0  1.0          0.0         0.0               0.0   \n",
       "1         0.0       0.0  1.0          0.0         0.0               1.0   \n",
       "2         1.0       0.0  0.0          1.0         0.0               0.0   \n",
       "3         1.0       1.0  0.0          0.0         1.0               1.0   \n",
       "4         1.0       1.0  0.0          1.0         0.0               1.0   \n",
       "...       ...       ...  ...          ...         ...               ...   \n",
       "5418      1.0       0.0  0.0          1.0         0.0               0.0   \n",
       "5419      1.0       2.0  1.0          0.0         0.0               1.0   \n",
       "5420      1.0       0.0  0.0          0.0         1.0               0.0   \n",
       "5421      0.0       0.0  0.0          1.0         0.0               0.0   \n",
       "5422      0.0       1.0  0.0          0.0         1.0               1.0   \n",
       "\n",
       "      Electronic check  NoOnlineSecurity  MonthlyCharges     Months  \\\n",
       "0                  0.0               0.0           39.70  17.439547   \n",
       "1                  0.0               1.0           46.05   1.744843   \n",
       "2                  1.0               0.0           91.80  64.929194   \n",
       "3                  0.0               0.0           19.80  29.123737   \n",
       "4                  0.0               0.0           89.45  63.640581   \n",
       "...                ...               ...             ...        ...   \n",
       "5418               1.0               0.0           95.00   1.000000   \n",
       "5419               0.0               0.0           91.10  24.130626   \n",
       "5420               1.0               0.0           21.15  14.470449   \n",
       "5421               1.0               1.0           99.45  12.067873   \n",
       "5422               0.0               0.0           19.80  23.095960   \n",
       "\n",
       "      AddServices  \n",
       "0             1.0  \n",
       "1             1.0  \n",
       "2             2.0  \n",
       "3             1.0  \n",
       "4             2.0  \n",
       "...           ...  \n",
       "5418          2.0  \n",
       "5419          2.0  \n",
       "5420          1.0  \n",
       "5421          1.0  \n",
       "5422          1.0  \n",
       "\n",
       "[5360 rows x 11 columns]"
      ]
     },
     "execution_count": 189,
     "metadata": {},
     "output_type": "execute_result"
    }
   ],
   "source": [
    "frame"
   ]
  },
  {
   "cell_type": "markdown",
   "metadata": {},
   "source": [
    "We splitted the dataset in training set and test set for testing purposes"
   ]
  },
  {
   "cell_type": "code",
   "execution_count": 190,
   "metadata": {},
   "outputs": [
    {
     "name": "stdout",
     "output_type": "stream",
     "text": [
      "Positive samples: 1054, Negative samples: 3073\n"
     ]
    }
   ],
   "source": [
    "from sklearn.model_selection import train_test_split\n",
    "\n",
    "X_train, X_test, y_train, y_test = train_test_split(df, labels, train_size=0.77, random_state=42)\n",
    "print(f'Positive samples: {np.sum(y_train)}, Negative samples: {len(y_train)-np.sum(y_train)}')"
   ]
  },
  {
   "cell_type": "markdown",
   "metadata": {},
   "source": [
    "We trained our models optimizing for the accuracy.\n",
    "We trained logistic regression, xgboost, random forest, catboost and support vector machine. Our idea is to compare the algorithm and use the most accurate to make the final prediction. Hyperparameters tuning was done thorugh Grid Search."
   ]
  },
  {
   "cell_type": "markdown",
   "metadata": {},
   "source": [
    "### Logistic regression"
   ]
  },
  {
   "cell_type": "code",
   "execution_count": 191,
   "metadata": {},
   "outputs": [
    {
     "name": "stdout",
     "output_type": "stream",
     "text": [
      "accuracy: 0.7907542579075426\n",
      "f1 score: 0.5505226480836237\n"
     ]
    },
    {
     "data": {
      "text/plain": [
       "array([[817,  97],\n",
       "       [161, 158]], dtype=int64)"
      ]
     },
     "execution_count": 191,
     "metadata": {},
     "output_type": "execute_result"
    }
   ],
   "source": [
    "from sklearn.linear_model import LogisticRegression\n",
    "from sklearn.metrics import confusion_matrix, f1_score, accuracy_score\n",
    "\n",
    "logr = LogisticRegression(max_iter=1600, solver='liblinear', C=0.9191836734693877, class_weight=None)\n",
    "logr.fit(X_train, y_train)\n",
    "y_predicted = logr.predict(X_test)\n",
    "matrix = confusion_matrix(y_test, y_predicted)\n",
    "\n",
    "print(f'accuracy: {accuracy_score(y_test, y_predicted)}')\n",
    "print(f'f1 score: {f1_score(y_test, y_predicted)}')\n",
    "matrix"
   ]
  },
  {
   "cell_type": "markdown",
   "metadata": {},
   "source": [
    "### Xgboost"
   ]
  },
  {
   "cell_type": "code",
   "execution_count": 192,
   "metadata": {},
   "outputs": [
    {
     "name": "stdout",
     "output_type": "stream",
     "text": [
      "accuracy: 0.8012976480129764\n",
      "f1 score: 0.5632798573975045\n"
     ]
    },
    {
     "data": {
      "text/plain": [
       "array([[830,  84],\n",
       "       [161, 158]], dtype=int64)"
      ]
     },
     "execution_count": 192,
     "metadata": {},
     "output_type": "execute_result"
    }
   ],
   "source": [
    "from xgboost import XGBClassifier\n",
    "\n",
    "xgb = XGBClassifier(n_estimators=44, max_depth=4, min_child_weight=1e-05, gamma=3, learning_rate=0.08367510204081632)\n",
    "xgb.fit(X_train, y_train)\n",
    "y_predicted = xgb.predict(X_test)\n",
    "\n",
    "print(f'accuracy: {accuracy_score(y_test, y_predicted)}')\n",
    "print(f'f1 score: {f1_score(y_test, y_predicted)}')\n",
    "matrix = confusion_matrix(y_test, y_predicted)\n",
    "matrix"
   ]
  },
  {
   "cell_type": "markdown",
   "metadata": {},
   "source": [
    "### Catboost"
   ]
  },
  {
   "cell_type": "code",
   "execution_count": 193,
   "metadata": {},
   "outputs": [
    {
     "name": "stdout",
     "output_type": "stream",
     "text": [
      "accuracy: 0.7988645579886455\n",
      "f1 score: 0.5738831615120275\n"
     ]
    },
    {
     "data": {
      "text/plain": [
       "array([[818,  96],\n",
       "       [152, 167]], dtype=int64)"
      ]
     },
     "execution_count": 193,
     "metadata": {},
     "output_type": "execute_result"
    }
   ],
   "source": [
    "from catboost import CatBoostClassifier\n",
    "\n",
    "cbc = CatBoostClassifier(silent=True, train_dir='logloss', learning_rate=0.006210526315789474, depth=9)\n",
    "cbc.fit(X_train, y_train)\n",
    "y_predicted = cbc.predict(X_test)\n",
    "\n",
    "print(f'accuracy: {accuracy_score(y_test, y_predicted)}')\n",
    "print(f'f1 score: {f1_score(y_test, y_predicted)}')\n",
    "matrix = confusion_matrix(y_test, y_predicted)\n",
    "matrix"
   ]
  },
  {
   "cell_type": "markdown",
   "metadata": {},
   "source": [
    "### Random forest"
   ]
  },
  {
   "cell_type": "code",
   "execution_count": 194,
   "metadata": {},
   "outputs": [
    {
     "name": "stdout",
     "output_type": "stream",
     "text": [
      "roc_value = 0.8462355007099592\n",
      "accuracy: 0.797242497972425\n",
      "f1 score: 0.5614035087719298\n"
     ]
    },
    {
     "data": {
      "text/plain": [
       "array([[823,  91],\n",
       "       [159, 160]], dtype=int64)"
      ]
     },
     "execution_count": 194,
     "metadata": {},
     "output_type": "execute_result"
    }
   ],
   "source": [
    "from sklearn.ensemble import RandomForestClassifier\n",
    "from sklearn.metrics import roc_auc_score\n",
    "\n",
    "rndfrst = RandomForestClassifier(n_estimators = 64,\n",
    "                                 min_samples_split = 10,\n",
    "                                 max_leaf_nodes = 49,\n",
    "                                 max_features = 0.5,\n",
    "                                 max_depth = 16,\n",
    "                                 bootstrap= True)\n",
    "\n",
    "rndfrst.fit(X_train, y_train)\n",
    "rf_predictions = rndfrst.predict(X_test)\n",
    "rf_probs = rndfrst.predict_proba(X_test)[:, 1]\n",
    "\n",
    "\n",
    "matrix = confusion_matrix(y_test, rf_predictions)\n",
    "print(f\"roc_value = {roc_auc_score(y_test, rf_probs)}\")\n",
    "print(f'accuracy: {accuracy_score(y_test, rf_predictions)}')\n",
    "print(f'f1 score: {f1_score(y_test, rf_predictions)}')\n",
    "matrix"
   ]
  },
  {
   "cell_type": "markdown",
   "metadata": {},
   "source": [
    "### Support vector machine"
   ]
  },
  {
   "cell_type": "code",
   "execution_count": 195,
   "metadata": {},
   "outputs": [
    {
     "name": "stdout",
     "output_type": "stream",
     "text": [
      "accuracy: 0.8012976480129764\n",
      "f1 score: 0.5632798573975045\n"
     ]
    },
    {
     "data": {
      "text/plain": [
       "array([[830,  84],\n",
       "       [161, 158]], dtype=int64)"
      ]
     },
     "execution_count": 195,
     "metadata": {},
     "output_type": "execute_result"
    }
   ],
   "source": [
    "from sklearn.svm import SVC\n",
    "\n",
    "svc = SVC(C=0.8428947368421053)\n",
    "xgb.fit(X_train, y_train)\n",
    "y_predicted = xgb.predict(X_test)\n",
    "\n",
    "print(f'accuracy: {accuracy_score(y_test, y_predicted)}')\n",
    "print(f'f1 score: {f1_score(y_test, y_predicted)}')\n",
    "matrix = confusion_matrix(y_test, y_predicted)\n",
    "matrix"
   ]
  },
  {
   "cell_type": "markdown",
   "metadata": {},
   "source": [
    "## Models evaluation"
   ]
  },
  {
   "cell_type": "code",
   "execution_count": 196,
   "metadata": {},
   "outputs": [],
   "source": [
    "classifiers = [logr, xgb, cbc, rndfrst]"
   ]
  },
  {
   "cell_type": "markdown",
   "metadata": {},
   "source": [
    "Here is a summary of the accuracy achieved on the test set:"
   ]
  },
  {
   "cell_type": "code",
   "execution_count": 197,
   "metadata": {},
   "outputs": [
    {
     "name": "stdout",
     "output_type": "stream",
     "text": [
      "LogisticRegression: 0.7907542579075426\n",
      "XGBClassifier: 0.8012976480129764\n",
      "CatBoostClassifier: 0.7988645579886455\n",
      "RandomForestClassifier: 0.7988645579886455\n"
     ]
    }
   ],
   "source": [
    "for classifier in classifiers:\n",
    "    classifier.fit(X_train, y_train)\n",
    "    y_predicted = classifier.predict(X_test)\n",
    "    print(f'{classifier.__class__.__name__}: {accuracy_score(y_test, y_predicted)}')"
   ]
  },
  {
   "cell_type": "markdown",
   "metadata": {},
   "source": [
    "In order to better evaluate our models' accuracy, we decided to use cross validation on our training set"
   ]
  },
  {
   "cell_type": "code",
   "execution_count": 198,
   "metadata": {},
   "outputs": [],
   "source": [
    "from sklearn.model_selection import cross_val_score\n",
    "\n",
    "def get_cross_val(classifiers, X_train, y_train):\n",
    "    for classifier in classifiers:\n",
    "        accuracy = cross_val_score(classifier, X_train, y_train)\n",
    "        print(f'{classifier.__class__.__name__}: {accuracy}, avg: {np.mean(accuracy)}')"
   ]
  },
  {
   "cell_type": "code",
   "execution_count": 199,
   "metadata": {},
   "outputs": [
    {
     "name": "stdout",
     "output_type": "stream",
     "text": [
      "LogisticRegression: [0.81961259 0.79903148 0.82181818 0.80484848 0.80727273], avg: 0.8105166923472009\n",
      "XGBClassifier: [0.82324455 0.80387409 0.82181818 0.80484848 0.80848485], avg: 0.8124540318438622\n",
      "CatBoostClassifier: [0.81840194 0.8062954  0.80969697 0.80242424 0.80363636], avg: 0.8080909824638637\n",
      "RandomForestClassifier: [0.81961259 0.80508475 0.80727273 0.80242424 0.81090909], avg: 0.8090606794335606\n"
     ]
    }
   ],
   "source": [
    "get_cross_val(classifiers, X_train, y_train)"
   ]
  },
  {
   "cell_type": "markdown",
   "metadata": {},
   "source": [
    "# Final classifier"
   ]
  },
  {
   "cell_type": "markdown",
   "metadata": {},
   "source": [
    "We decided to opt for xgboost. The function classifier() will take the test set with no labels as argument and run the whole pipeline on it. The output is going to be the predicted classes. The auxiliary function feat_eng() performs the feature engineering process described above. This time, the model is going to be trained on the whole training set."
   ]
  },
  {
   "cell_type": "code",
   "execution_count": 200,
   "metadata": {},
   "outputs": [],
   "source": [
    "def classifier(test):\n",
    "    xgb = XGBClassifier(n_estimators=44, max_depth=4, min_child_weight=1e-05, gamma=3, learning_rate=0.08367510204081632)\n",
    "    xgb.fit(df,labels)\n",
    "    \n",
    "    df_test = feat_eng(test)\n",
    "    predicted = xgb.predict(df_test)\n",
    "\n",
    "    return predicted\n",
    "\n",
    "\n",
    "def feat_eng(frame): \n",
    "\n",
    "    categorical_features = ['InternetService', 'PaymentMethod', 'OnlineSecurity']\n",
    "    numerical_features = ['MonthlyCharges', 'TotalCharges']\n",
    "    binary_features = ['gender', 'Partner', 'PhoneService', 'Contract']\n",
    "    \n",
    "    cat_features = encoder.fit_transform(data[categorical_features])\n",
    "    bin_features = ordinal_encoder.fit_transform(data[binary_features])\n",
    "    num_features = data[numerical_features].to_numpy()\n",
    "\n",
    "    df = np.hstack((bin_features, cat_features, num_features))\n",
    "    frame = pd.DataFrame(df, columns = all_columns)\n",
    "\n",
    "    noisy_columns = frame[['gender', 'No internet service', 'PhoneService', 'OnlineSecurity','Credit card (automatic)', 'Mailed check']]\n",
    "\n",
    "    frame['Bank transfer (automatic)'] = frame['Bank transfer (automatic)'] + frame['Credit card (automatic)']\n",
    "    frame.rename(columns={'Bank transfer (automatic)':'AutomaticPayment'}, inplace=True)\n",
    "    frame.rename(columns={'No': 'NoOnlineSecurity'}, inplace=True)\n",
    "\n",
    "    time = frame['TotalCharges'] / frame['MonthlyCharges']\n",
    "    frame['TotalCharges'] = time\n",
    "    frame.rename(columns={'TotalCharges':'Months'}, inplace=True)\n",
    "\n",
    "    ads = frame['PhoneService'] + frame['OnlineSecurity']\n",
    "    \n",
    "    frame.drop(columns=noisy_columns, inplace=True)\n",
    "    frame['AddServices'] = ads\n",
    "    \n",
    "    df2 = frame.to_numpy()\n",
    "\n",
    "    return df2"
   ]
  }
 ],
 "metadata": {
  "kernelspec": {
   "display_name": "Python 3",
   "language": "python",
   "name": "python3"
  },
  "language_info": {
   "codemirror_mode": {
    "name": "ipython",
    "version": 3
   },
   "file_extension": ".py",
   "mimetype": "text/x-python",
   "name": "python",
   "nbconvert_exporter": "python",
   "pygments_lexer": "ipython3",
   "version": "3.7.6"
  }
 },
 "nbformat": 4,
 "nbformat_minor": 4
}
